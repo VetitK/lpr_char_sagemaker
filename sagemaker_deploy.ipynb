{
 "cells": [
  {
   "cell_type": "markdown",
   "id": "1b45b156-75a6-484d-a767-3fbdcaf81f41",
   "metadata": {},
   "source": [
    "## Download File from S3"
   ]
  },
  {
   "cell_type": "code",
   "execution_count": 17,
   "id": "9ba30dd3-331f-418b-915b-112f720cdb59",
   "metadata": {},
   "outputs": [],
   "source": [
    "import boto3\n",
    "\n",
    "# Initialize Boto3 S3 client\n",
    "s3 = boto3.client('s3')\n",
    "\n",
    "# Specify the S3 bucket name and the path to your model file\n",
    "bucket_name = 'lpr-characters-46000'\n",
    "model_key = 'LPR_Character_Classify.tar.gz'\n",
    "local_model_path = 'LPR_Character_Classify.tar.gz'\n",
    "\n",
    "# Download the model from S3\n",
    "s3.download_file(bucket_name, model_key, local_model_path)"
   ]
  },
  {
   "cell_type": "markdown",
   "id": "78489fe1-46d1-464b-9622-36f54f9ab06c",
   "metadata": {},
   "source": [
    "## Upload .tar.gz to S3"
   ]
  },
  {
   "cell_type": "code",
   "execution_count": 21,
   "id": "4c9a8b20-820b-483e-9d8c-7cc26901b793",
   "metadata": {},
   "outputs": [],
   "source": [
    "import sagemaker\n",
    "import torch\n",
    "import tarfile\n",
    "\n",
    "with tarfile.open(\"model.tar.gz\", \"w:gz\") as f:\n",
    "    f.add(\"classify_chars.pt\")"
   ]
  },
  {
   "cell_type": "code",
   "execution_count": 51,
   "id": "b0470244-9b3c-4715-ad85-17d2e60a0b2d",
   "metadata": {},
   "outputs": [
    {
     "name": "stdout",
     "output_type": "stream",
     "text": [
      "sagemaker.config INFO - Not applying SDK defaults from location: /etc/xdg/sagemaker/config.yaml\n",
      "sagemaker.config INFO - Not applying SDK defaults from location: /home/sagemaker-user/.config/sagemaker/config.yaml\n",
      "sagemaker.config INFO - Not applying SDK defaults from location: /etc/xdg/sagemaker/config.yaml\n",
      "sagemaker.config INFO - Not applying SDK defaults from location: /home/sagemaker-user/.config/sagemaker/config.yaml\n"
     ]
    }
   ],
   "source": [
    "import boto3\n",
    "import sagemaker\n",
    "import time\n",
    "from sagemaker.utils import name_from_base\n",
    "\n",
    "role = sagemaker.get_execution_role()\n",
    "sess = sagemaker.Session()\n",
    "\n",
    "region = sess.boto_region_name\n",
    "bucket = sess.default_bucket()\n",
    "\n",
    "compilation_job_name = name_from_base(\"LPRThaiCharsClassify\")\n",
    "prefix = compilation_job_name + \"/model\"\n",
    "\n",
    "model_path = sess.upload_data(path=\"model.tar.gz\", key_prefix=prefix)\n",
    "\n"
   ]
  },
  {
   "cell_type": "code",
   "execution_count": 52,
   "id": "c52f6217-6fe6-4381-8c5b-a9a282708d5f",
   "metadata": {},
   "outputs": [
    {
     "data": {
      "text/plain": [
       "'s3://sagemaker-us-east-1-058264315246/LPRThaiCharsClassify-2024-02-12-08-27-53-874/model/model.tar.gz'"
      ]
     },
     "execution_count": 52,
     "metadata": {},
     "output_type": "execute_result"
    }
   ],
   "source": [
    "data_shape = '{\"input0\":[1,3,48,36]}'\n",
    "target_device = \"ml_c5\"\n",
    "framework = \"PYTORCH\"\n",
    "framework_version = \"1.13\"\n",
    "compiled_model_path = \"s3://{}/{}\".format(bucket, compilation_job_name)\n",
    "model_path"
   ]
  },
  {
   "cell_type": "code",
   "execution_count": 53,
   "id": "32c23943-5e54-4f1f-997c-b5825f7b19d2",
   "metadata": {},
   "outputs": [],
   "source": [
    "from sagemaker.pytorch.model import PyTorchModel\n",
    "from sagemaker.predictor import Predictor\n",
    "\n",
    "sagemaker_model = PyTorchModel(\n",
    "    model_data=model_path,\n",
    "    predictor_cls=Predictor,\n",
    "    framework_version=framework_version,\n",
    "    role=role,\n",
    "    sagemaker_session=sess,\n",
    "    entry_point=\"inference.py\",\n",
    "    source_dir=\"code\",\n",
    "    py_version=\"py3\",\n",
    "    env={\"MMS_DEFAULT_RESPONSE_TIMEOUT\": \"500\"},\n",
    ")"
   ]
  },
  {
   "cell_type": "code",
   "execution_count": 54,
   "id": "8c86eedd-3f91-467e-b89e-fb38720f5228",
   "metadata": {},
   "outputs": [
    {
     "name": "stdout",
     "output_type": "stream",
     "text": [
      "????????????????????????????............................................................................................................................!"
     ]
    }
   ],
   "source": [
    "compiled_model = sagemaker_model.compile(\n",
    "    target_instance_family=target_device,\n",
    "    input_shape=data_shape,\n",
    "    job_name=compilation_job_name,\n",
    "    role=role,\n",
    "    framework=framework.lower(),\n",
    "    framework_version=framework_version,\n",
    "    output_path=compiled_model_path,\n",
    ")"
   ]
  },
  {
   "cell_type": "code",
   "execution_count": 55,
   "id": "f669124b-9a79-4f4f-80b4-542e1bd0cc33",
   "metadata": {},
   "outputs": [
    {
     "name": "stdout",
     "output_type": "stream",
     "text": [
      "----!"
     ]
    }
   ],
   "source": [
    "predictor = compiled_model.deploy(initial_instance_count=1, instance_type=\"ml.m5.xlarge\")"
   ]
  },
  {
   "cell_type": "code",
   "execution_count": 59,
   "id": "69095fdb-2e79-4d07-918f-a473757b88eb",
   "metadata": {},
   "outputs": [
    {
     "name": "stdout",
     "output_type": "stream",
     "text": [
      "bytearray(b'\\xff\\xd8\\xff\\xe0\\x00\\x10JFIF\\x00\\x01\\x01\\x00\\x00\\x01\\x00\\x01\\x00\\x00\\xff\\xdb\\x00C\\x00\\x08\\x06\\x06\\x07\\x06\\x05\\x08\\x07\\x07\\x07\\t\\t\\x08\\n\\x0c\\x14\\r\\x0c\\x0b\\x0b\\x0c\\x19\\x12\\x13\\x0f\\x14\\x1d\\x1a\\x1f\\x1e\\x1d\\x1a\\x1c\\x1c $.\\' \",#\\x1c\\x1c(7),01444\\x1f\\'9=82<.342\\xff\\xdb\\x00C\\x01\\x08\\t\\t\\x0c\\x0b\\x0c\\x18\\r\\r\\x182!\\x1c!22222222222222222222222222222222222222222222222222\\xff\\xc0\\x00\\x11\\x08\\x000\\x00$\\x03\\x01\"\\x00\\x02\\x11\\x01\\x03\\x11\\x01\\xff\\xc4\\x00\\x1f\\x00\\x00\\x01\\x05\\x01\\x01\\x01\\x01\\x01\\x01\\x00\\x00\\x00\\x00\\x00\\x00\\x00\\x00\\x01\\x02\\x03\\x04\\x05\\x06\\x07\\x08\\t\\n\\x0b\\xff\\xc4\\x00\\xb5\\x10\\x00\\x02\\x01\\x03\\x03\\x02\\x04\\x03\\x05\\x05\\x04\\x04\\x00\\x00\\x01}\\x01\\x02\\x03\\x00\\x04\\x11\\x05\\x12!1A\\x06\\x13Qa\\x07\"q\\x142\\x81\\x91\\xa1\\x08#B\\xb1\\xc1\\x15R\\xd1\\xf0$3br\\x82\\t\\n\\x16\\x17\\x18\\x19\\x1a%&\\'()*456789:CDEFGHIJSTUVWXYZcdefghijstuvwxyz\\x83\\x84\\x85\\x86\\x87\\x88\\x89\\x8a\\x92\\x93\\x94\\x95\\x96\\x97\\x98\\x99\\x9a\\xa2\\xa3\\xa4\\xa5\\xa6\\xa7\\xa8\\xa9\\xaa\\xb2\\xb3\\xb4\\xb5\\xb6\\xb7\\xb8\\xb9\\xba\\xc2\\xc3\\xc4\\xc5\\xc6\\xc7\\xc8\\xc9\\xca\\xd2\\xd3\\xd4\\xd5\\xd6\\xd7\\xd8\\xd9\\xda\\xe1\\xe2\\xe3\\xe4\\xe5\\xe6\\xe7\\xe8\\xe9\\xea\\xf1\\xf2\\xf3\\xf4\\xf5\\xf6\\xf7\\xf8\\xf9\\xfa\\xff\\xc4\\x00\\x1f\\x01\\x00\\x03\\x01\\x01\\x01\\x01\\x01\\x01\\x01\\x01\\x01\\x00\\x00\\x00\\x00\\x00\\x00\\x01\\x02\\x03\\x04\\x05\\x06\\x07\\x08\\t\\n\\x0b\\xff\\xc4\\x00\\xb5\\x11\\x00\\x02\\x01\\x02\\x04\\x04\\x03\\x04\\x07\\x05\\x04\\x04\\x00\\x01\\x02w\\x00\\x01\\x02\\x03\\x11\\x04\\x05!1\\x06\\x12AQ\\x07aq\\x13\"2\\x81\\x08\\x14B\\x91\\xa1\\xb1\\xc1\\t#3R\\xf0\\x15br\\xd1\\n\\x16$4\\xe1%\\xf1\\x17\\x18\\x19\\x1a&\\'()*56789:CDEFGHIJSTUVWXYZcdefghijstuvwxyz\\x82\\x83\\x84\\x85\\x86\\x87\\x88\\x89\\x8a\\x92\\x93\\x94\\x95\\x96\\x97\\x98\\x99\\x9a\\xa2\\xa3\\xa4\\xa5\\xa6\\xa7\\xa8\\xa9\\xaa\\xb2\\xb3\\xb4\\xb5\\xb6\\xb7\\xb8\\xb9\\xba\\xc2\\xc3\\xc4\\xc5\\xc6\\xc7\\xc8\\xc9\\xca\\xd2\\xd3\\xd4\\xd5\\xd6\\xd7\\xd8\\xd9\\xda\\xe2\\xe3\\xe4\\xe5\\xe6\\xe7\\xe8\\xe9\\xea\\xf2\\xf3\\xf4\\xf5\\xf6\\xf7\\xf8\\xf9\\xfa\\xff\\xda\\x00\\x0c\\x03\\x01\\x00\\x02\\x11\\x03\\x11\\x00?\\x00\\x83\\x9bki\\xa7#\\x01\\x075\\xc5\\xc9\\xf1\\x03PK\\x99\\x12\\xda6d\\x1ct\\xae\\xd7\\xc6\"K\\r!\\xd6>7\\x8a\\xe2\\xfc\\x15\\xa7\\xfd\\xa8\\xce\\xd7\\x0b\\x91\\x9a\\xd5\\xc8\\xe7\\x85=\\r?\\x0b\\xf8\\xca\\xf7S\\xd4E\\xa5\\xda\\x903\\xc6k\\xb4\\xd4uX\\xf4x\\x84\\xf2.}\\x05p\\xb6v\\x91C\\xe3d\\x11cf{~\\x15\\xd0\\xf8\\xdf\\x1eDq\\x8e\\x98\\xcd\\x0eF\\x9c\\x9a\\xa2\\xad\\xc7\\xc4\\xa4\\x13\\x10\\xb6\\xfc}M\\x15\\xc4\\xad\\x9f\\x9a\\x0b\\x00z\\xfaQY\\\\\\xe8\\xf6g\\xb7\\xf8\\x8fB]^\\xcc&@\\xc0\\xef^{rc\\xf0\\xd4\\x0fknwJ\\xe7\\x1f-w>$\\xd5\\xe4\\x8d\\xccV\\xcd\\xf3\\x0fJ\\xf3\\x99\\xc9:\\xb2\\xdc\\xdc\\x92@\\xe4\\x83A\\x11\\x8e\\x86\\xef\\x82tYn/M\\xf5\\xccx \\xe7\\x9a_\\x1a\\xc8\\x0c\\xee\\xbd\\x94`Wc\\xe1\\xcdF\\xc6{\\x0f\\xdc\\x95\\r\\x8c\\x11^{\\xe2\\xc9Zk\\x99\\x009;\\xf1CbK\\xde\\x13G\\xd2\\xfc\\xed9\\x1c\\xa1\\xe4\\x9e\\xd4Wo\\xe1\\xfd3\\xfe$\\xb0\\x1cu\\x19\\xa2\\xa2\\xe7I\\xc4\\xddj\\xb8{\\x87i2\\xc3\\xa5dY\\xe9z\\x86\\xae\\x92L\\xa1\\xb1\\xda\\xb55\\x7f\\t\\xde>\\xa8\\xce\\x99\\xf2\\xd9\\xbaf\\xbd+\\xc2z$vZz\\xa3\\xa0,E+\\x92\\xb4G\\x94\\xe8s\\xde\\xd8^\\xb5\\xa9fS\\xd2\\xa5\\xbf-s\\xac\\xc1\\x08\\xe4\\xe7\\xe6\\xf7\\xae\\xa3\\xc6\\xba)\\xb1\\xbb7\\xf6\\xe0.:\\x81\\\\\\xdf\\x86\\x89\\xd4<G\\x13\\xc9\\xfc=h\\xb8%\\xd4\\xf5\\x9d>3\\r\\x84(\\x060\\x83\\xf9QW\\xd1\\x10\"\\x8fj*n\\x07\\xff\\xd9')\n",
      "Most likely class: 13\n"
     ]
    }
   ],
   "source": [
    "import numpy as np\n",
    "import json\n",
    "\n",
    "im_path = 'dataset/MLPR_augmentedV15/test/ฆ/29_ฆ.jpg'\n",
    "with open(im_path, \"rb\") as f:\n",
    "    payload = f.read()\n",
    "    payload = bytearray(payload)\n",
    "\n",
    "print(payload)\n",
    "\n",
    "response = predictor.predict(payload)\n",
    "result = json.loads(response.decode())\n",
    "print(\"Most likely class: {}\".format(np.argmax(result)))"
   ]
  },
  {
   "cell_type": "code",
   "execution_count": 60,
   "id": "99eec0ed-3956-499e-82da-07ab72cb6802",
   "metadata": {},
   "outputs": [
    {
     "name": "stdout",
     "output_type": "stream",
     "text": [
      "The label is 'ฆ' with probability 0.999\n"
     ]
    }
   ],
   "source": [
    "# Load names for ImageNet classes\n",
    "object_categories = {}\n",
    "with open(\"th_chars_classes_48.txt\", \"r\") as f:\n",
    "    for line in f:\n",
    "        key, val = line.strip().split(\":\")\n",
    "        object_categories[key] = val.strip(\" \").strip(\",\")\n",
    "print(\n",
    "    \"The label is\",\n",
    "    object_categories[str(np.argmax(result))],\n",
    "    \"with probability\",\n",
    "    str(np.amax(result))[:5],\n",
    ")"
   ]
  },
  {
   "cell_type": "code",
   "execution_count": null,
   "id": "a6d42484-59e0-4b80-a6f9-348032dcb420",
   "metadata": {},
   "outputs": [],
   "source": []
  }
 ],
 "metadata": {
  "kernelspec": {
   "display_name": "Python 3 (ipykernel)",
   "language": "python",
   "name": "python3"
  },
  "language_info": {
   "codemirror_mode": {
    "name": "ipython",
    "version": 3
   },
   "file_extension": ".py",
   "mimetype": "text/x-python",
   "name": "python",
   "nbconvert_exporter": "python",
   "pygments_lexer": "ipython3",
   "version": "3.10.13"
  }
 },
 "nbformat": 4,
 "nbformat_minor": 5
}
